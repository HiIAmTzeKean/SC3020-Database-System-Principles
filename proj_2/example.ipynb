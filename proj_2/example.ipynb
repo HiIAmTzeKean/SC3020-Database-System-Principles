{
 "cells": [
  {
   "cell_type": "markdown",
   "metadata": {},
   "source": [
    "## Demo\n",
    "\n",
    "Note: \n",
    "The end user needs to install pygraphviz which has dependencies. view <https://pygraphviz.github.io/documentation/stable/install.html>\n",
    "\n",
    "## For mac\n",
    "pip install --config-settings=\"--global-option=build_ext\" \\\n",
    "            --config-settings=\"--global-option=-I$(brew --prefix graphviz)/include/\" \\\n",
    "            --config-settings=\"--global-option=-L$(brew --prefix graphviz)/lib/\" \\\n",
    "            pygraphviz"
   ]
  },
  {
   "cell_type": "code",
   "execution_count": 1,
   "metadata": {},
   "outputs": [
    {
     "name": "stderr",
     "output_type": "stream",
     "text": [
      "2025-04-13 18:00:24.575 WARNING streamlit.runtime.scriptrunner_utils.script_run_context: Thread 'MainThread': missing ScriptRunContext! This warning can be ignored when running in bare mode.\n"
     ]
    },
    {
     "name": "stdout",
     "output_type": "stream",
     "text": [
      "Sort None None/[]/[] (Cost: 144.99)\n",
      "|-Hash Join Outer None/[]/['(de.empid = e.empid)'] (Cost: 107.12)\n",
      "|-|-Hash Join Outer None/[]/['(de.deptid = d.deptid)'] (Cost: 66.56)\n",
      "|-|-|-Seq Scan Outer department_employee/[]/[] (Cost: 32.6)\n",
      "|-|-|-Hash Inner None/[]/[] (Cost: 22.72)\n",
      "|-|-|-|-Bitmap Heap Scan Outer department/[]/[] (Cost: 22.72)\n",
      "|-|-|-|-|-Bitmap Index Scan Outer None/['(deptid > 100)']/[] (Cost: 7.32)\n",
      "|-|-Hash Inner None/[]/[] (Cost: 22.7)\n",
      "|-|-|-Seq Scan Outer employee/[]/[] (Cost: 22.7)\n",
      "\n"
     ]
    }
   ],
   "source": [
    "from pipesyntax import PipeSyntax, QueryExecutionPlanGraph\n",
    "\n",
    "\n",
    "with open(\"sql_qep.txt\", \"r\") as file:\n",
    "    qep = file.read()\n",
    "query = \"some query\"\n",
    "\n",
    "qep_graph = QueryExecutionPlanGraph(query, qep)\n",
    "qep_graph.generate()\n",
    "print(qep_graph.root)"
   ]
  },
  {
   "cell_type": "code",
   "execution_count": 2,
   "metadata": {},
   "outputs": [
    {
     "name": "stderr",
     "output_type": "stream",
     "text": [
      "2025-04-13 18:00:25,567 - DBPiper - INFO - Generating pipe syntax for query: some query\n"
     ]
    },
    {
     "name": "stdout",
     "output_type": "stream",
     "text": [
      "INNER JOIN department_employee WITH department ON (['(de.deptid = d.deptid)'], ['(deptid > 100)']) (Cost: 66.56)\n",
      "|> INNER JOIN employee WITH None ON (['(de.empid = e.empid)'], []) (Cost: 107.12)\n",
      "|> ORDER BY e.empid (Cost: 144.99);\n",
      "\n"
     ]
    }
   ],
   "source": [
    "ps = PipeSyntax(qep_graph)\n",
    "print(ps.generate())"
   ]
  }
 ],
 "metadata": {
  "kernelspec": {
   "display_name": "Python 3",
   "language": "python",
   "name": "python3"
  },
  "language_info": {
   "codemirror_mode": {
    "name": "ipython",
    "version": 3
   },
   "file_extension": ".py",
   "mimetype": "text/x-python",
   "name": "python",
   "nbconvert_exporter": "python",
   "pygments_lexer": "ipython3",
   "version": "3.12.8"
  }
 },
 "nbformat": 4,
 "nbformat_minor": 2
}
