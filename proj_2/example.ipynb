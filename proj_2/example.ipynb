{
 "cells": [
  {
   "cell_type": "markdown",
   "metadata": {},
   "source": [
    "## Demo\n",
    "\n",
    "Note: \n",
    "The end user needs to install pygraphviz which has dependencies. view <https://pygraphviz.github.io/documentation/stable/install.html>\n",
    "\n",
    "## For mac\n",
    "pip install --config-settings=\"--global-option=build_ext\" \\\n",
    "            --config-settings=\"--global-option=-I$(brew --prefix graphviz)/include/\" \\\n",
    "            --config-settings=\"--global-option=-L$(brew --prefix graphviz)/lib/\" \\\n",
    "            pygraphviz"
   ]
  },
  {
   "cell_type": "code",
   "execution_count": 1,
   "metadata": {},
   "outputs": [],
   "source": [
    "from pipesyntax import PipeSyntax, QueryExecutionPlanGraph"
   ]
  },
  {
   "cell_type": "code",
   "execution_count": 2,
   "metadata": {},
   "outputs": [],
   "source": [
    "# pipe_syntax = \"\"\"\n",
    "# FROM customer  \n",
    "# |> LEFT OUTER JOIN orders ON c_custkey = o_custkey AND o_comment NOT LIKE '%unusual%packages%'  \n",
    "# |> AGGREGATE COUNT(o_orderkey) c_count GROUP BY c_custkey  \n",
    "# |> AGGREGATE COUNT(*) AS custdist GROUP BY c_count  \n",
    "# |> ORDER BY custdist DESC, c_count DESC;\n",
    "# \"\"\"\n",
    "\n",
    "# query_plan = QueryExecutionPlanGraph(\"Sample Query\")\n",
    "# query_plan.generate(pipe_syntax)\n",
    "# query_plan.visualize()"
   ]
  },
  {
   "cell_type": "code",
   "execution_count": 3,
   "metadata": {},
   "outputs": [],
   "source": [
    "with open(\"sql_qep.txt\", \"r\") as file:\n",
    "    qep = file.read()\n",
    "query = \"some query\"\n"
   ]
  },
  {
   "cell_type": "code",
   "execution_count": 4,
   "metadata": {},
   "outputs": [],
   "source": [
    "qep_graph = QueryExecutionPlanGraph(query, qep)\n",
    "qep_graph.generate()"
   ]
  },
  {
   "cell_type": "code",
   "execution_count": 5,
   "metadata": {},
   "outputs": [
    {
     "name": "stdout",
     "output_type": "stream",
     "text": [
      "'Sort' (Cost: 144.99)\n",
      "|>'Hash Join' (Cost: 107.12)\n",
      "|>|>'Hash Join' (Cost: 66.56)\n",
      "|>|>|>'Seq Scan' (Cost: 32.6)\n",
      "|>|>|>'Hash' (Cost: 22.72)\n",
      "|>|>|>|>'Bitmap Heap Scan' (Cost: 22.72)\n",
      "|>|>|>|>|>'Bitmap Index Scan' (Cost: 7.32)\n",
      "|>|>'Hash' (Cost: 22.7)\n",
      "|>|>|>'Seq Scan' (Cost: 22.7)\n",
      "\n"
     ]
    }
   ],
   "source": [
    "print(qep_graph.root)"
   ]
  },
  {
   "cell_type": "code",
   "execution_count": 6,
   "metadata": {},
   "outputs": [],
   "source": [
    "ps = PipeSyntax(qep_graph)"
   ]
  },
  {
   "cell_type": "code",
   "execution_count": null,
   "metadata": {},
   "outputs": [
    {
     "data": {
      "text/plain": [
       "\"Seq Scan on department_employee (Cost: 32.6)\\n|> Bitmap Index Scan (Cost: 7.32)\\n|> Bitmap Heap Scan on department (Cost: 22.72)\\n|> Hash (Cost: 22.72)\\n|> Hash Join (Cost: 66.56)\\n|> Seq Scan on employee (Cost: 22.7)\\n|> Hash (Cost: 22.7)\\n|> Hash Join (Cost: 107.12)\\n|> Sort sort on ['e.empid'] (Cost: 144.99);\\n\""
      ]
     },
     "execution_count": 7,
     "metadata": {},
     "output_type": "execute_result"
    }
   ],
   "source": [
    "ps.generate()"
   ]
  }
 ],
 "metadata": {
  "kernelspec": {
   "display_name": ".venv",
   "language": "python",
   "name": "python3"
  },
  "language_info": {
   "codemirror_mode": {
    "name": "ipython",
    "version": 3
   },
   "file_extension": ".py",
   "mimetype": "text/x-python",
   "name": "python",
   "nbconvert_exporter": "python",
   "pygments_lexer": "ipython3",
   "version": "3.12.8"
  }
 },
 "nbformat": 4,
 "nbformat_minor": 2
}
